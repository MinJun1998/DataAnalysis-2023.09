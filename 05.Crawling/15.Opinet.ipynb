{
 "cells": [
  {
   "cell_type": "markdown",
   "metadata": {},
   "source": [
    "## Opinet - 셀프주유소가 정말 저렴할까?"
   ]
  },
  {
   "cell_type": "code",
   "execution_count": 60,
   "metadata": {},
   "outputs": [],
   "source": [
    "import time\n",
    "import pandas as pd\n",
    "from bs4 import BeautifulSoup\n",
    "from selenium import webdriver\n",
    "from selenium.webdriver.common.by import By\n",
    "from selenium.webdriver.common.keys import Keys"
   ]
  },
  {
   "cell_type": "markdown",
   "metadata": {},
   "source": [
    "##### 1. 셀레니움으로 서울시 구별 주유소 가격정보 얻기"
   ]
  },
  {
   "cell_type": "code",
   "execution_count": 61,
   "metadata": {},
   "outputs": [],
   "source": [
    "# Opinet 초기화면 > 싼 주유소 찾기 > 지역별\n",
    "url = 'https://www.opinet.co.kr/searRgSelect.do'\n",
    "driver = webdriver.Chrome()\n",
    "driver.get(url)\n",
    "time.sleep(2)"
   ]
  },
  {
   "cell_type": "code",
   "execution_count": 62,
   "metadata": {},
   "outputs": [],
   "source": [
    "# 광역시도에서 서울 입력\n",
    "metro = driver.find_element(By.ID, 'SIDO_NM0')\n",
    "metro.send_keys('서울')"
   ]
  },
  {
   "cell_type": "code",
   "execution_count": 63,
   "metadata": {},
   "outputs": [
    {
     "data": {
      "text/plain": [
       "[<selenium.webdriver.remote.webelement.WebElement (session=\"4f46bb22db83ec5a51b0594523ec1fd5\", element=\"EFE879133CB04F47576B439DA6A3A6CD_element_92\")>,\n",
       " <selenium.webdriver.remote.webelement.WebElement (session=\"4f46bb22db83ec5a51b0594523ec1fd5\", element=\"EFE879133CB04F47576B439DA6A3A6CD_element_94\")>,\n",
       " <selenium.webdriver.remote.webelement.WebElement (session=\"4f46bb22db83ec5a51b0594523ec1fd5\", element=\"EFE879133CB04F47576B439DA6A3A6CD_element_96\")>]"
      ]
     },
     "execution_count": 63,
     "metadata": {},
     "output_type": "execute_result"
    }
   ],
   "source": [
    "# 서울시 자치구 리스트 가져오기\n",
    "sigungu = driver.find_element(By.ID, 'SIGUNGU_NM0')\n",
    "gu_list = sigungu.find_elements(By.TAG_NAME, 'option')\n",
    "gu_list[:3]"
   ]
  },
  {
   "cell_type": "code",
   "execution_count": 64,
   "metadata": {},
   "outputs": [
    {
     "data": {
      "text/plain": [
       "('시/군/구', '강남구')"
      ]
     },
     "execution_count": 64,
     "metadata": {},
     "output_type": "execute_result"
    }
   ],
   "source": [
    "gu_list[0].text, gu_list[1].text"
   ]
  },
  {
   "cell_type": "code",
   "execution_count": 65,
   "metadata": {},
   "outputs": [
    {
     "data": {
      "text/plain": [
       "['강남구', '강동구', '강북구']"
      ]
     },
     "execution_count": 65,
     "metadata": {},
     "output_type": "execute_result"
    }
   ],
   "source": [
    "gu_names = [gu.text for gu in gu_list[1:]]\n",
    "gu_names[:3]"
   ]
  },
  {
   "cell_type": "code",
   "execution_count": 66,
   "metadata": {},
   "outputs": [],
   "source": [
    "# 강남구 선택\n",
    "sigungu.send_keys(gu_names[0])"
   ]
  },
  {
   "cell_type": "code",
   "execution_count": 67,
   "metadata": {},
   "outputs": [],
   "source": [
    "# 엑셀 저장\n",
    "driver.find_element(By.ID, 'glopopd_excel').click()\n",
    "time.sleep(2)"
   ]
  },
  {
   "cell_type": "code",
   "execution_count": 68,
   "metadata": {},
   "outputs": [],
   "source": [
    "# 강남구를 제외한 나머지 자치구에 대해서 주유소 가격정보 엑셀 저장\n",
    "for gu in gu_names[1:]:\n",
    "    sigungu = driver.find_element(By.ID, 'SIGUNGU_NM0')\n",
    "    sigungu.send_keys(gu)\n",
    "    time.sleep(3)\n",
    "    driver.find_element(By.ID, 'glopopd_excel').click()\n",
    "    time.sleep(3)"
   ]
  },
  {
   "cell_type": "code",
   "execution_count": 69,
   "metadata": {},
   "outputs": [],
   "source": [
    "driver.close()"
   ]
  },
  {
   "cell_type": "markdown",
   "metadata": {},
   "source": [
    "##### 2. 구별 휘발유 가격에 대한 정리"
   ]
  },
  {
   "cell_type": "code",
   "execution_count": 70,
   "metadata": {},
   "outputs": [
    {
     "data": {
      "text/plain": [
       "['c:/Users/human/Downloads\\\\지역_위치별(주유소) (1).xls',\n",
       " 'c:/Users/human/Downloads\\\\지역_위치별(주유소) (10).xls',\n",
       " 'c:/Users/human/Downloads\\\\지역_위치별(주유소) (11).xls',\n",
       " 'c:/Users/human/Downloads\\\\지역_위치별(주유소) (12).xls',\n",
       " 'c:/Users/human/Downloads\\\\지역_위치별(주유소) (13).xls',\n",
       " 'c:/Users/human/Downloads\\\\지역_위치별(주유소) (14).xls',\n",
       " 'c:/Users/human/Downloads\\\\지역_위치별(주유소) (15).xls',\n",
       " 'c:/Users/human/Downloads\\\\지역_위치별(주유소) (16).xls',\n",
       " 'c:/Users/human/Downloads\\\\지역_위치별(주유소) (17).xls',\n",
       " 'c:/Users/human/Downloads\\\\지역_위치별(주유소) (18).xls',\n",
       " 'c:/Users/human/Downloads\\\\지역_위치별(주유소) (19).xls',\n",
       " 'c:/Users/human/Downloads\\\\지역_위치별(주유소) (2).xls',\n",
       " 'c:/Users/human/Downloads\\\\지역_위치별(주유소) (20).xls',\n",
       " 'c:/Users/human/Downloads\\\\지역_위치별(주유소) (21).xls',\n",
       " 'c:/Users/human/Downloads\\\\지역_위치별(주유소) (22).xls',\n",
       " 'c:/Users/human/Downloads\\\\지역_위치별(주유소) (23).xls',\n",
       " 'c:/Users/human/Downloads\\\\지역_위치별(주유소) (24).xls',\n",
       " 'c:/Users/human/Downloads\\\\지역_위치별(주유소) (3).xls',\n",
       " 'c:/Users/human/Downloads\\\\지역_위치별(주유소) (4).xls',\n",
       " 'c:/Users/human/Downloads\\\\지역_위치별(주유소) (5).xls',\n",
       " 'c:/Users/human/Downloads\\\\지역_위치별(주유소) (6).xls',\n",
       " 'c:/Users/human/Downloads\\\\지역_위치별(주유소) (7).xls',\n",
       " 'c:/Users/human/Downloads\\\\지역_위치별(주유소) (8).xls',\n",
       " 'c:/Users/human/Downloads\\\\지역_위치별(주유소) (9).xls',\n",
       " 'c:/Users/human/Downloads\\\\지역_위치별(주유소).xls']"
      ]
     },
     "execution_count": 70,
     "metadata": {},
     "output_type": "execute_result"
    }
   ],
   "source": [
    "from glob import glob\n",
    "glob('c:/Users/human/Downloads/지역*.xls')"
   ]
  },
  {
   "cell_type": "code",
   "execution_count": 71,
   "metadata": {},
   "outputs": [
    {
     "data": {
      "text/html": [
       "<div>\n",
       "<style scoped>\n",
       "    .dataframe tbody tr th:only-of-type {\n",
       "        vertical-align: middle;\n",
       "    }\n",
       "\n",
       "    .dataframe tbody tr th {\n",
       "        vertical-align: top;\n",
       "    }\n",
       "\n",
       "    .dataframe thead th {\n",
       "        text-align: right;\n",
       "    }\n",
       "</style>\n",
       "<table border=\"1\" class=\"dataframe\">\n",
       "  <thead>\n",
       "    <tr style=\"text-align: right;\">\n",
       "      <th></th>\n",
       "      <th>지역</th>\n",
       "      <th>상호</th>\n",
       "      <th>주소</th>\n",
       "      <th>상표</th>\n",
       "      <th>전화번호</th>\n",
       "      <th>셀프여부</th>\n",
       "      <th>고급휘발유</th>\n",
       "      <th>휘발유</th>\n",
       "      <th>경유</th>\n",
       "      <th>실내등유</th>\n",
       "    </tr>\n",
       "  </thead>\n",
       "  <tbody>\n",
       "    <tr>\n",
       "      <th>0</th>\n",
       "      <td>서울특별시</td>\n",
       "      <td>(주)보성 세곡주유소</td>\n",
       "      <td>서울 강남구  헌릉로 731 (세곡동)</td>\n",
       "      <td>SK에너지</td>\n",
       "      <td>02-445-6870</td>\n",
       "      <td>Y</td>\n",
       "      <td>-</td>\n",
       "      <td>1769</td>\n",
       "      <td>1668</td>\n",
       "      <td>-</td>\n",
       "    </tr>\n",
       "    <tr>\n",
       "      <th>1</th>\n",
       "      <td>서울특별시</td>\n",
       "      <td>HD현대오일뱅크㈜직영 산성셀프주유소</td>\n",
       "      <td>서울 강남구 헌릉로 730</td>\n",
       "      <td>HD현대오일뱅크</td>\n",
       "      <td>02-2226-4963</td>\n",
       "      <td>Y</td>\n",
       "      <td>1978</td>\n",
       "      <td>1788</td>\n",
       "      <td>1688</td>\n",
       "      <td>-</td>\n",
       "    </tr>\n",
       "    <tr>\n",
       "      <th>2</th>\n",
       "      <td>서울특별시</td>\n",
       "      <td>삼성동주유소</td>\n",
       "      <td>서울 강남구 테헤란로 619 (삼성동)</td>\n",
       "      <td>HD현대오일뱅크</td>\n",
       "      <td>02-508-6572</td>\n",
       "      <td>Y</td>\n",
       "      <td>2025</td>\n",
       "      <td>1795</td>\n",
       "      <td>1735</td>\n",
       "      <td>-</td>\n",
       "    </tr>\n",
       "  </tbody>\n",
       "</table>\n",
       "</div>"
      ],
      "text/plain": [
       "      지역                   상호                     주소        상표          전화번호  \\\n",
       "0  서울특별시          (주)보성 세곡주유소  서울 강남구  헌릉로 731 (세곡동)     SK에너지   02-445-6870   \n",
       "1  서울특별시  HD현대오일뱅크㈜직영 산성셀프주유소         서울 강남구 헌릉로 730  HD현대오일뱅크  02-2226-4963   \n",
       "2  서울특별시               삼성동주유소  서울 강남구 테헤란로 619 (삼성동)  HD현대오일뱅크   02-508-6572   \n",
       "\n",
       "  셀프여부 고급휘발유   휘발유    경유 실내등유  \n",
       "0    Y     -  1769  1668    -  \n",
       "1    Y  1978  1788  1688    -  \n",
       "2    Y  2025  1795  1735    -  "
      ]
     },
     "execution_count": 71,
     "metadata": {},
     "output_type": "execute_result"
    }
   ],
   "source": [
    "# conda activate base; pip install xlrd\n",
    "filename = 'c:/Users/human/Downloads/지역_위치별(주유소).xls'\n",
    "df = pd.read_excel(filename, header=2)\n",
    "df.head(3)"
   ]
  },
  {
   "cell_type": "code",
   "execution_count": 72,
   "metadata": {},
   "outputs": [],
   "source": [
    "# 25개 파일을 읽어서 하나의 데이터프레임으로 만들기\n",
    "df_list = []\n",
    "for filename in glob('c:/Users/human/Downloads/지역*.xls'):\n",
    "    df = pd.read_excel(filename, header=2)\n",
    "    df_list.append(df)"
   ]
  },
  {
   "cell_type": "code",
   "execution_count": 73,
   "metadata": {},
   "outputs": [
    {
     "data": {
      "text/plain": [
       "(439, 10)"
      ]
     },
     "execution_count": 73,
     "metadata": {},
     "output_type": "execute_result"
    }
   ],
   "source": [
    "df = pd.concat(df_list)\n",
    "df.shape"
   ]
  },
  {
   "cell_type": "code",
   "execution_count": 74,
   "metadata": {},
   "outputs": [
    {
     "data": {
      "text/html": [
       "<div>\n",
       "<style scoped>\n",
       "    .dataframe tbody tr th:only-of-type {\n",
       "        vertical-align: middle;\n",
       "    }\n",
       "\n",
       "    .dataframe tbody tr th {\n",
       "        vertical-align: top;\n",
       "    }\n",
       "\n",
       "    .dataframe thead th {\n",
       "        text-align: right;\n",
       "    }\n",
       "</style>\n",
       "<table border=\"1\" class=\"dataframe\">\n",
       "  <thead>\n",
       "    <tr style=\"text-align: right;\">\n",
       "      <th></th>\n",
       "      <th>상호</th>\n",
       "      <th>주소</th>\n",
       "      <th>가격</th>\n",
       "      <th>셀프</th>\n",
       "      <th>상표</th>\n",
       "    </tr>\n",
       "  </thead>\n",
       "  <tbody>\n",
       "    <tr>\n",
       "      <th>0</th>\n",
       "      <td>재건에너지 재정제2주유소 고속셀프지점</td>\n",
       "      <td>서울특별시 강동구  천호대로 1246 (둔촌제2동)</td>\n",
       "      <td>1779</td>\n",
       "      <td>Y</td>\n",
       "      <td>HD현대오일뱅크</td>\n",
       "    </tr>\n",
       "    <tr>\n",
       "      <th>1</th>\n",
       "      <td>구천면주유소</td>\n",
       "      <td>서울 강동구 구천면로 357 (암사동)</td>\n",
       "      <td>1824</td>\n",
       "      <td>N</td>\n",
       "      <td>HD현대오일뱅크</td>\n",
       "    </tr>\n",
       "    <tr>\n",
       "      <th>2</th>\n",
       "      <td>(주)삼표에너지 고덕주유소</td>\n",
       "      <td>서울 강동구 고덕로 39 (암사동)</td>\n",
       "      <td>1835</td>\n",
       "      <td>Y</td>\n",
       "      <td>GS칼텍스</td>\n",
       "    </tr>\n",
       "    <tr>\n",
       "      <th>3</th>\n",
       "      <td>(주)소모 신월주유소</td>\n",
       "      <td>서울 강동구 양재대로 1323 (성내동)</td>\n",
       "      <td>1836</td>\n",
       "      <td>Y</td>\n",
       "      <td>GS칼텍스</td>\n",
       "    </tr>\n",
       "    <tr>\n",
       "      <th>4</th>\n",
       "      <td>대성석유(주)길동주유소</td>\n",
       "      <td>서울 강동구 천호대로 1168</td>\n",
       "      <td>1846</td>\n",
       "      <td>N</td>\n",
       "      <td>GS칼텍스</td>\n",
       "    </tr>\n",
       "  </tbody>\n",
       "</table>\n",
       "</div>"
      ],
      "text/plain": [
       "                     상호                            주소    가격 셀프        상표\n",
       "0  재건에너지 재정제2주유소 고속셀프지점  서울특별시 강동구  천호대로 1246 (둔촌제2동)  1779  Y  HD현대오일뱅크\n",
       "1                구천면주유소         서울 강동구 구천면로 357 (암사동)  1824  N  HD현대오일뱅크\n",
       "2        (주)삼표에너지 고덕주유소           서울 강동구 고덕로 39 (암사동)  1835  Y     GS칼텍스\n",
       "3           (주)소모 신월주유소        서울 강동구 양재대로 1323 (성내동)  1836  Y     GS칼텍스\n",
       "4          대성석유(주)길동주유소              서울 강동구 천호대로 1168  1846  N     GS칼텍스"
      ]
     },
     "execution_count": 74,
     "metadata": {},
     "output_type": "execute_result"
    }
   ],
   "source": [
    "df = df[['상호', '주소', '휘발유', '셀프여부', '상표']]\n",
    "df.rename(columns={'휘발유':'가격', '셀프여부':'셀프'}, inplace=True)\n",
    "df.head()"
   ]
  },
  {
   "cell_type": "code",
   "execution_count": 75,
   "metadata": {},
   "outputs": [
    {
     "data": {
      "text/html": [
       "<div>\n",
       "<style scoped>\n",
       "    .dataframe tbody tr th:only-of-type {\n",
       "        vertical-align: middle;\n",
       "    }\n",
       "\n",
       "    .dataframe tbody tr th {\n",
       "        vertical-align: top;\n",
       "    }\n",
       "\n",
       "    .dataframe thead th {\n",
       "        text-align: right;\n",
       "    }\n",
       "</style>\n",
       "<table border=\"1\" class=\"dataframe\">\n",
       "  <thead>\n",
       "    <tr style=\"text-align: right;\">\n",
       "      <th></th>\n",
       "      <th>상호</th>\n",
       "      <th>주소</th>\n",
       "      <th>가격</th>\n",
       "      <th>셀프</th>\n",
       "      <th>상표</th>\n",
       "    </tr>\n",
       "  </thead>\n",
       "  <tbody>\n",
       "    <tr>\n",
       "      <th>29</th>\n",
       "      <td>갤러리아주유소</td>\n",
       "      <td>서울 강남구 압구정로 426</td>\n",
       "      <td>2330</td>\n",
       "      <td>N</td>\n",
       "      <td>SK에너지</td>\n",
       "    </tr>\n",
       "    <tr>\n",
       "      <th>30</th>\n",
       "      <td>㈜새서울석유 새서울주유소</td>\n",
       "      <td>서울 강남구 압구정로 154</td>\n",
       "      <td>2348</td>\n",
       "      <td>N</td>\n",
       "      <td>HD현대오일뱅크</td>\n",
       "    </tr>\n",
       "    <tr>\n",
       "      <th>31</th>\n",
       "      <td>SK논현주유소</td>\n",
       "      <td>서울 강남구 논현로 747 (논현동)</td>\n",
       "      <td>2390</td>\n",
       "      <td>N</td>\n",
       "      <td>SK에너지</td>\n",
       "    </tr>\n",
       "    <tr>\n",
       "      <th>32</th>\n",
       "      <td>(주)제이제이네트웍스 제이제이주유소</td>\n",
       "      <td>서울 강남구 언주로 716</td>\n",
       "      <td>2560</td>\n",
       "      <td>N</td>\n",
       "      <td>HD현대오일뱅크</td>\n",
       "    </tr>\n",
       "    <tr>\n",
       "      <th>33</th>\n",
       "      <td>(주)만정에너지 삼보주유소</td>\n",
       "      <td>서울 강남구 봉은사로 433 (삼성동)</td>\n",
       "      <td>2598</td>\n",
       "      <td>N</td>\n",
       "      <td>GS칼텍스</td>\n",
       "    </tr>\n",
       "  </tbody>\n",
       "</table>\n",
       "</div>"
      ],
      "text/plain": [
       "                     상호                     주소    가격 셀프        상표\n",
       "29              갤러리아주유소        서울 강남구 압구정로 426  2330  N     SK에너지\n",
       "30        ㈜새서울석유 새서울주유소        서울 강남구 압구정로 154  2348  N  HD현대오일뱅크\n",
       "31              SK논현주유소   서울 강남구 논현로 747 (논현동)  2390  N     SK에너지\n",
       "32  (주)제이제이네트웍스 제이제이주유소         서울 강남구 언주로 716  2560  N  HD현대오일뱅크\n",
       "33       (주)만정에너지 삼보주유소  서울 강남구 봉은사로 433 (삼성동)  2598  N     GS칼텍스"
      ]
     },
     "execution_count": 75,
     "metadata": {},
     "output_type": "execute_result"
    }
   ],
   "source": [
    "df.tail()"
   ]
  },
  {
   "cell_type": "code",
   "execution_count": 76,
   "metadata": {},
   "outputs": [
    {
     "data": {
      "text/html": [
       "<div>\n",
       "<style scoped>\n",
       "    .dataframe tbody tr th:only-of-type {\n",
       "        vertical-align: middle;\n",
       "    }\n",
       "\n",
       "    .dataframe tbody tr th {\n",
       "        vertical-align: top;\n",
       "    }\n",
       "\n",
       "    .dataframe thead th {\n",
       "        text-align: right;\n",
       "    }\n",
       "</style>\n",
       "<table border=\"1\" class=\"dataframe\">\n",
       "  <thead>\n",
       "    <tr style=\"text-align: right;\">\n",
       "      <th></th>\n",
       "      <th>상호</th>\n",
       "      <th>주소</th>\n",
       "      <th>가격</th>\n",
       "      <th>셀프</th>\n",
       "      <th>상표</th>\n",
       "      <th>구</th>\n",
       "    </tr>\n",
       "  </thead>\n",
       "  <tbody>\n",
       "    <tr>\n",
       "      <th>0</th>\n",
       "      <td>재건에너지 재정제2주유소 고속셀프지점</td>\n",
       "      <td>서울특별시 강동구  천호대로 1246 (둔촌제2동)</td>\n",
       "      <td>1779</td>\n",
       "      <td>Y</td>\n",
       "      <td>HD현대오일뱅크</td>\n",
       "      <td>강동구</td>\n",
       "    </tr>\n",
       "    <tr>\n",
       "      <th>1</th>\n",
       "      <td>구천면주유소</td>\n",
       "      <td>서울 강동구 구천면로 357 (암사동)</td>\n",
       "      <td>1824</td>\n",
       "      <td>N</td>\n",
       "      <td>HD현대오일뱅크</td>\n",
       "      <td>강동구</td>\n",
       "    </tr>\n",
       "    <tr>\n",
       "      <th>2</th>\n",
       "      <td>(주)삼표에너지 고덕주유소</td>\n",
       "      <td>서울 강동구 고덕로 39 (암사동)</td>\n",
       "      <td>1835</td>\n",
       "      <td>Y</td>\n",
       "      <td>GS칼텍스</td>\n",
       "      <td>강동구</td>\n",
       "    </tr>\n",
       "    <tr>\n",
       "      <th>3</th>\n",
       "      <td>(주)소모 신월주유소</td>\n",
       "      <td>서울 강동구 양재대로 1323 (성내동)</td>\n",
       "      <td>1836</td>\n",
       "      <td>Y</td>\n",
       "      <td>GS칼텍스</td>\n",
       "      <td>강동구</td>\n",
       "    </tr>\n",
       "    <tr>\n",
       "      <th>4</th>\n",
       "      <td>대성석유(주)길동주유소</td>\n",
       "      <td>서울 강동구 천호대로 1168</td>\n",
       "      <td>1846</td>\n",
       "      <td>N</td>\n",
       "      <td>GS칼텍스</td>\n",
       "      <td>강동구</td>\n",
       "    </tr>\n",
       "  </tbody>\n",
       "</table>\n",
       "</div>"
      ],
      "text/plain": [
       "                     상호                            주소    가격 셀프        상표    구\n",
       "0  재건에너지 재정제2주유소 고속셀프지점  서울특별시 강동구  천호대로 1246 (둔촌제2동)  1779  Y  HD현대오일뱅크  강동구\n",
       "1                구천면주유소         서울 강동구 구천면로 357 (암사동)  1824  N  HD현대오일뱅크  강동구\n",
       "2        (주)삼표에너지 고덕주유소           서울 강동구 고덕로 39 (암사동)  1835  Y     GS칼텍스  강동구\n",
       "3           (주)소모 신월주유소        서울 강동구 양재대로 1323 (성내동)  1836  Y     GS칼텍스  강동구\n",
       "4          대성석유(주)길동주유소              서울 강동구 천호대로 1168  1846  N     GS칼텍스  강동구"
      ]
     },
     "execution_count": 76,
     "metadata": {},
     "output_type": "execute_result"
    }
   ],
   "source": [
    "df['구'] = df.주소.apply(lambda x: x.split()[1])\n",
    "df.head()"
   ]
  },
  {
   "cell_type": "code",
   "execution_count": 77,
   "metadata": {},
   "outputs": [
    {
     "data": {
      "text/plain": [
       "array(['강동구', '동대문구', '동작구', '마포구', '서대문구', '서초구', '성동구', '성북구', '송파구',\n",
       "       '양천구', '영등포구', '강북구', '용산구', '은평구', '종로구', '중구', '중랑구', '강서구',\n",
       "       '관악구', '광진구', '구로구', '금천구', '노원구', '도봉구', '강남구'], dtype=object)"
      ]
     },
     "execution_count": 77,
     "metadata": {},
     "output_type": "execute_result"
    }
   ],
   "source": [
    "df.구.unique()"
   ]
  },
  {
   "cell_type": "code",
   "execution_count": 78,
   "metadata": {},
   "outputs": [
    {
     "data": {
      "text/html": [
       "<div>\n",
       "<style scoped>\n",
       "    .dataframe tbody tr th:only-of-type {\n",
       "        vertical-align: middle;\n",
       "    }\n",
       "\n",
       "    .dataframe tbody tr th {\n",
       "        vertical-align: top;\n",
       "    }\n",
       "\n",
       "    .dataframe thead th {\n",
       "        text-align: right;\n",
       "    }\n",
       "</style>\n",
       "<table border=\"1\" class=\"dataframe\">\n",
       "  <thead>\n",
       "    <tr style=\"text-align: right;\">\n",
       "      <th></th>\n",
       "      <th>상호</th>\n",
       "      <th>주소</th>\n",
       "      <th>가격</th>\n",
       "      <th>셀프</th>\n",
       "      <th>상표</th>\n",
       "      <th>구</th>\n",
       "    </tr>\n",
       "  </thead>\n",
       "  <tbody>\n",
       "    <tr>\n",
       "      <th>434</th>\n",
       "      <td>갤러리아주유소</td>\n",
       "      <td>서울 강남구 압구정로 426</td>\n",
       "      <td>2330</td>\n",
       "      <td>N</td>\n",
       "      <td>SK에너지</td>\n",
       "      <td>강남구</td>\n",
       "    </tr>\n",
       "    <tr>\n",
       "      <th>435</th>\n",
       "      <td>㈜새서울석유 새서울주유소</td>\n",
       "      <td>서울 강남구 압구정로 154</td>\n",
       "      <td>2348</td>\n",
       "      <td>N</td>\n",
       "      <td>HD현대오일뱅크</td>\n",
       "      <td>강남구</td>\n",
       "    </tr>\n",
       "    <tr>\n",
       "      <th>436</th>\n",
       "      <td>SK논현주유소</td>\n",
       "      <td>서울 강남구 논현로 747 (논현동)</td>\n",
       "      <td>2390</td>\n",
       "      <td>N</td>\n",
       "      <td>SK에너지</td>\n",
       "      <td>강남구</td>\n",
       "    </tr>\n",
       "    <tr>\n",
       "      <th>437</th>\n",
       "      <td>(주)제이제이네트웍스 제이제이주유소</td>\n",
       "      <td>서울 강남구 언주로 716</td>\n",
       "      <td>2560</td>\n",
       "      <td>N</td>\n",
       "      <td>HD현대오일뱅크</td>\n",
       "      <td>강남구</td>\n",
       "    </tr>\n",
       "    <tr>\n",
       "      <th>438</th>\n",
       "      <td>(주)만정에너지 삼보주유소</td>\n",
       "      <td>서울 강남구 봉은사로 433 (삼성동)</td>\n",
       "      <td>2598</td>\n",
       "      <td>N</td>\n",
       "      <td>GS칼텍스</td>\n",
       "      <td>강남구</td>\n",
       "    </tr>\n",
       "  </tbody>\n",
       "</table>\n",
       "</div>"
      ],
      "text/plain": [
       "                      상호                     주소    가격 셀프        상표    구\n",
       "434              갤러리아주유소        서울 강남구 압구정로 426  2330  N     SK에너지  강남구\n",
       "435        ㈜새서울석유 새서울주유소        서울 강남구 압구정로 154  2348  N  HD현대오일뱅크  강남구\n",
       "436              SK논현주유소   서울 강남구 논현로 747 (논현동)  2390  N     SK에너지  강남구\n",
       "437  (주)제이제이네트웍스 제이제이주유소         서울 강남구 언주로 716  2560  N  HD현대오일뱅크  강남구\n",
       "438       (주)만정에너지 삼보주유소  서울 강남구 봉은사로 433 (삼성동)  2598  N     GS칼텍스  강남구"
      ]
     },
     "execution_count": 78,
     "metadata": {},
     "output_type": "execute_result"
    }
   ],
   "source": [
    "df.set_index('상호', inplace=True)\n",
    "df.reset_index(inplace=True)\n",
    "df.tail()"
   ]
  },
  {
   "cell_type": "code",
   "execution_count": 79,
   "metadata": {},
   "outputs": [
    {
     "data": {
      "text/plain": [
       "numpy.int64"
      ]
     },
     "execution_count": 79,
     "metadata": {},
     "output_type": "execute_result"
    }
   ],
   "source": [
    "# 가격의 타입 확인\n",
    "type(df.가격[0])"
   ]
  },
  {
   "cell_type": "code",
   "execution_count": 80,
   "metadata": {},
   "outputs": [
    {
     "data": {
      "text/html": [
       "<div>\n",
       "<style scoped>\n",
       "    .dataframe tbody tr th:only-of-type {\n",
       "        vertical-align: middle;\n",
       "    }\n",
       "\n",
       "    .dataframe tbody tr th {\n",
       "        vertical-align: top;\n",
       "    }\n",
       "\n",
       "    .dataframe thead th {\n",
       "        text-align: right;\n",
       "    }\n",
       "</style>\n",
       "<table border=\"1\" class=\"dataframe\">\n",
       "  <thead>\n",
       "    <tr style=\"text-align: right;\">\n",
       "      <th></th>\n",
       "      <th>상호</th>\n",
       "      <th>주소</th>\n",
       "      <th>가격</th>\n",
       "      <th>셀프</th>\n",
       "      <th>상표</th>\n",
       "      <th>구</th>\n",
       "    </tr>\n",
       "  </thead>\n",
       "  <tbody>\n",
       "    <tr>\n",
       "      <th>434</th>\n",
       "      <td>갤러리아주유소</td>\n",
       "      <td>서울 강남구 압구정로 426</td>\n",
       "      <td>2330</td>\n",
       "      <td>N</td>\n",
       "      <td>SK에너지</td>\n",
       "      <td>강남구</td>\n",
       "    </tr>\n",
       "    <tr>\n",
       "      <th>435</th>\n",
       "      <td>㈜새서울석유 새서울주유소</td>\n",
       "      <td>서울 강남구 압구정로 154</td>\n",
       "      <td>2348</td>\n",
       "      <td>N</td>\n",
       "      <td>HD현대오일뱅크</td>\n",
       "      <td>강남구</td>\n",
       "    </tr>\n",
       "    <tr>\n",
       "      <th>436</th>\n",
       "      <td>SK논현주유소</td>\n",
       "      <td>서울 강남구 논현로 747 (논현동)</td>\n",
       "      <td>2390</td>\n",
       "      <td>N</td>\n",
       "      <td>SK에너지</td>\n",
       "      <td>강남구</td>\n",
       "    </tr>\n",
       "    <tr>\n",
       "      <th>437</th>\n",
       "      <td>(주)제이제이네트웍스 제이제이주유소</td>\n",
       "      <td>서울 강남구 언주로 716</td>\n",
       "      <td>2560</td>\n",
       "      <td>N</td>\n",
       "      <td>HD현대오일뱅크</td>\n",
       "      <td>강남구</td>\n",
       "    </tr>\n",
       "    <tr>\n",
       "      <th>438</th>\n",
       "      <td>(주)만정에너지 삼보주유소</td>\n",
       "      <td>서울 강남구 봉은사로 433 (삼성동)</td>\n",
       "      <td>2598</td>\n",
       "      <td>N</td>\n",
       "      <td>GS칼텍스</td>\n",
       "      <td>강남구</td>\n",
       "    </tr>\n",
       "  </tbody>\n",
       "</table>\n",
       "</div>"
      ],
      "text/plain": [
       "                      상호                     주소    가격 셀프        상표    구\n",
       "434              갤러리아주유소        서울 강남구 압구정로 426  2330  N     SK에너지  강남구\n",
       "435        ㈜새서울석유 새서울주유소        서울 강남구 압구정로 154  2348  N  HD현대오일뱅크  강남구\n",
       "436              SK논현주유소   서울 강남구 논현로 747 (논현동)  2390  N     SK에너지  강남구\n",
       "437  (주)제이제이네트웍스 제이제이주유소         서울 강남구 언주로 716  2560  N  HD현대오일뱅크  강남구\n",
       "438       (주)만정에너지 삼보주유소  서울 강남구 봉은사로 433 (삼성동)  2598  N     GS칼텍스  강남구"
      ]
     },
     "execution_count": 80,
     "metadata": {},
     "output_type": "execute_result"
    }
   ],
   "source": [
    "df.to_csv('data/opinet_20230919.csv', index=False)\n",
    "pd.read_csv('data/opinet_20230919.csv').tail()"
   ]
  },
  {
   "cell_type": "markdown",
   "metadata": {},
   "source": [
    "##### 3. 셀프주유소가 정말 저렴할까?"
   ]
  },
  {
   "cell_type": "code",
   "execution_count": 81,
   "metadata": {},
   "outputs": [
    {
     "data": {
      "text/html": [
       "<div>\n",
       "<style scoped>\n",
       "    .dataframe tbody tr th:only-of-type {\n",
       "        vertical-align: middle;\n",
       "    }\n",
       "\n",
       "    .dataframe tbody tr th {\n",
       "        vertical-align: top;\n",
       "    }\n",
       "\n",
       "    .dataframe thead tr th {\n",
       "        text-align: left;\n",
       "    }\n",
       "\n",
       "    .dataframe thead tr:last-of-type th {\n",
       "        text-align: right;\n",
       "    }\n",
       "</style>\n",
       "<table border=\"1\" class=\"dataframe\">\n",
       "  <thead>\n",
       "    <tr>\n",
       "      <th></th>\n",
       "      <th>count</th>\n",
       "      <th>mean</th>\n",
       "      <th>min</th>\n",
       "      <th>max</th>\n",
       "      <th>std</th>\n",
       "      <th>var</th>\n",
       "    </tr>\n",
       "    <tr>\n",
       "      <th></th>\n",
       "      <th>가격</th>\n",
       "      <th>가격</th>\n",
       "      <th>가격</th>\n",
       "      <th>가격</th>\n",
       "      <th>가격</th>\n",
       "      <th>가격</th>\n",
       "    </tr>\n",
       "    <tr>\n",
       "      <th>셀프</th>\n",
       "      <th></th>\n",
       "      <th></th>\n",
       "      <th></th>\n",
       "      <th></th>\n",
       "      <th></th>\n",
       "      <th></th>\n",
       "    </tr>\n",
       "  </thead>\n",
       "  <tbody>\n",
       "    <tr>\n",
       "      <th>N</th>\n",
       "      <td>172</td>\n",
       "      <td>1948.372093</td>\n",
       "      <td>1694</td>\n",
       "      <td>2776</td>\n",
       "      <td>217.620387</td>\n",
       "      <td>47358.632667</td>\n",
       "    </tr>\n",
       "    <tr>\n",
       "      <th>Y</th>\n",
       "      <td>267</td>\n",
       "      <td>1800.925094</td>\n",
       "      <td>1724</td>\n",
       "      <td>2278</td>\n",
       "      <td>54.626775</td>\n",
       "      <td>2984.084594</td>\n",
       "    </tr>\n",
       "  </tbody>\n",
       "</table>\n",
       "</div>"
      ],
      "text/plain": [
       "   count         mean   min   max         std           var\n",
       "      가격           가격    가격    가격          가격            가격\n",
       "셀프                                                         \n",
       "N    172  1948.372093  1694  2776  217.620387  47358.632667\n",
       "Y    267  1800.925094  1724  2278   54.626775   2984.084594"
      ]
     },
     "execution_count": 81,
     "metadata": {},
     "output_type": "execute_result"
    }
   ],
   "source": [
    "df.pivot_table('가격', '셀프', aggfunc=['count', 'mean', 'min', 'max', 'std', 'var'])"
   ]
  },
  {
   "cell_type": "markdown",
   "metadata": {},
   "source": [
    "- 셀프 여부에 따른 가격의 Boxplot"
   ]
  },
  {
   "cell_type": "code",
   "execution_count": 82,
   "metadata": {},
   "outputs": [],
   "source": [
    "import seaborn as sns\n",
    "import matplotlib.pyplot as plt\n",
    "plt.rcParams['font.family'] = 'Malgun Gothic'\n",
    "plt.rcParams['axes.unicode_minus'] = False"
   ]
  },
  {
   "cell_type": "code",
   "execution_count": 83,
   "metadata": {},
   "outputs": [
    {
     "data": {
      "image/png": "[encoded data removed]",
      "text/plain": [
       "<Figure size 640x480 with 1 Axes>"
      ]
     },
     "metadata": {},
     "output_type": "display_data"
    }
   ],
   "source": [
    "sns.boxplot(df, x='셀프', y='가격')\n",
    "plt.title('셀프 여부에 따른 가격의 boxplot');"
   ]
  },
  {
   "cell_type": "markdown",
   "metadata": {},
   "source": [
    "- 가설검정(2-sample T test)"
   ]
  },
  {
   "cell_type": "code",
   "execution_count": 84,
   "metadata": {},
   "outputs": [
    {
     "data": {
      "text/plain": [
       "Ttest_indResult(statistic=-8.710850568947652, pvalue=1.6733753870177818e-15)"
      ]
     },
     "execution_count": 84,
     "metadata": {},
     "output_type": "execute_result"
    }
   ],
   "source": [
    "import scipy as sp\n",
    "sp.stats.ttest_ind(df[df.셀프=='Y'].가격, df[df.셀프=='N'].가격, equal_var=False)"
   ]
  },
  {
   "cell_type": "code",
   "execution_count": 85,
   "metadata": {},
   "outputs": [],
   "source": [
    "# p-value가 0.05보다 (훨씬) 작으므로 귀무가설 기각, 대립가설 채택\n",
    "#   - 귀무가설(H0): 셀프주유소와 일반주유소의 가격 차이가 없다.\n",
    "#   - 대립가설(H1): 셀프주유소와 일반주유소의 가격 차이가 있다."
   ]
  },
  {
   "cell_type": "markdown",
   "metadata": {},
   "source": [
    "- 상표별로 가격 비교하기"
   ]
  },
  {
   "cell_type": "code",
   "execution_count": 86,
   "metadata": {},
   "outputs": [
    {
     "data": {
      "image/png": "[encoded data removed]",
      "text/plain": [
       "<Figure size 640x480 with 1 Axes>"
      ]
     },
     "metadata": {},
     "output_type": "display_data"
    }
   ],
   "source": [
    "sns.boxplot(df, x='상표', y='가격')\n",
    "plt.title('상표별 가격의 boxplot');"
   ]
  },
  {
   "cell_type": "code",
   "execution_count": 91,
   "metadata": {},
   "outputs": [
    {
     "data": {
      "text/html": [
       "<div>\n",
       "<style scoped>\n",
       "    .dataframe tbody tr th:only-of-type {\n",
       "        vertical-align: middle;\n",
       "    }\n",
       "\n",
       "    .dataframe tbody tr th {\n",
       "        vertical-align: top;\n",
       "    }\n",
       "\n",
       "    .dataframe thead tr th {\n",
       "        text-align: left;\n",
       "    }\n",
       "\n",
       "    .dataframe thead tr:last-of-type th {\n",
       "        text-align: right;\n",
       "    }\n",
       "</style>\n",
       "<table border=\"1\" class=\"dataframe\">\n",
       "  <thead>\n",
       "    <tr>\n",
       "      <th></th>\n",
       "      <th>mean</th>\n",
       "    </tr>\n",
       "    <tr>\n",
       "      <th></th>\n",
       "      <th>가격</th>\n",
       "    </tr>\n",
       "    <tr>\n",
       "      <th>상표</th>\n",
       "      <th></th>\n",
       "    </tr>\n",
       "  </thead>\n",
       "  <tbody>\n",
       "    <tr>\n",
       "      <th>GS칼텍스</th>\n",
       "      <td>1888.116505</td>\n",
       "    </tr>\n",
       "    <tr>\n",
       "      <th>HD현대오일뱅크</th>\n",
       "      <td>1825.982759</td>\n",
       "    </tr>\n",
       "    <tr>\n",
       "      <th>S-OIL</th>\n",
       "      <td>1827.141026</td>\n",
       "    </tr>\n",
       "    <tr>\n",
       "      <th>SK에너지</th>\n",
       "      <td>1892.116279</td>\n",
       "    </tr>\n",
       "    <tr>\n",
       "      <th>알뜰(ex)</th>\n",
       "      <td>1724.000000</td>\n",
       "    </tr>\n",
       "    <tr>\n",
       "      <th>알뜰주유소</th>\n",
       "      <td>1769.700000</td>\n",
       "    </tr>\n",
       "    <tr>\n",
       "      <th>자가상표</th>\n",
       "      <td>1828.000000</td>\n",
       "    </tr>\n",
       "  </tbody>\n",
       "</table>\n",
       "</div>"
      ],
      "text/plain": [
       "                 mean\n",
       "                   가격\n",
       "상표                   \n",
       "GS칼텍스     1888.116505\n",
       "HD현대오일뱅크  1825.982759\n",
       "S-OIL     1827.141026\n",
       "SK에너지     1892.116279\n",
       "알뜰(ex)    1724.000000\n",
       "알뜰주유소     1769.700000\n",
       "자가상표      1828.000000"
      ]
     },
     "execution_count": 91,
     "metadata": {},
     "output_type": "execute_result"
    }
   ],
   "source": [
    "mean = df.pivot_table('가격', '상표', aggfunc=['mean'])"
   ]
  },
  {
   "cell_type": "code",
   "execution_count": 102,
   "metadata": {},
   "outputs": [
    {
     "data": {
      "image/png": "[encoded data removed]",
      "text/plain": [
       "<Figure size 640x480 with 1 Axes>"
      ]
     },
     "metadata": {},
     "output_type": "display_data"
    }
   ],
   "source": [
    "# 상표별 평균 가격의 막대 그래프\n",
    "plt.barh(df.상표, df.가격)\n",
    "plt.title('상표별 평균 가격')\n",
    "plt.show()"
   ]
  },
  {
   "cell_type": "code",
   "execution_count": 104,
   "metadata": {},
   "outputs": [
    {
     "data": {
      "image/png": "[encoded data removed]",
      "text/plain": [
       "<Figure size 640x480 with 1 Axes>"
      ]
     },
     "metadata": {},
     "output_type": "display_data"
    }
   ],
   "source": [
    "sns.barplot(df, y='상표', x='가격')\n",
    "plt.title('상표별 평균가격');"
   ]
  },
  {
   "cell_type": "code",
   "execution_count": 103,
   "metadata": {},
   "outputs": [
    {
     "data": {
      "image/png": "[encoded data removed]",
      "text/plain": [
       "<Figure size 640x480 with 1 Axes>"
      ]
     },
     "metadata": {},
     "output_type": "display_data"
    }
   ],
   "source": [
    "# 구별 가격 비교\n",
    "plt.barh(df.구, df.가격)\n",
    "plt.title('구별 가격비교')\n",
    "plt.show()"
   ]
  },
  {
   "cell_type": "code",
   "execution_count": null,
   "metadata": {},
   "outputs": [],
   "source": []
  }
 ],
 "metadata": {
  "kernelspec": {
   "display_name": "base",
   "language": "python",
   "name": "python3"
  },
  "language_info": {
   "codemirror_mode": {
    "name": "ipython",
    "version": 3
   },
   "file_extension": ".py",
   "mimetype": "text/x-python",
   "name": "python",
   "nbconvert_exporter": "python",
   "pygments_lexer": "ipython3",
   "version": "3.11.4"
  },
  "orig_nbformat": 4
 },
 "nbformat": 4,
 "nbformat_minor": 2
}
